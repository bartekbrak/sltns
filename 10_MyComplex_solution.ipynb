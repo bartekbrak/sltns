{
 "cells": [
  {
   "cell_type": "code",
   "execution_count": null,
   "metadata": {
    "collapsed": false
   },
   "outputs": [],
   "source": [
    "# honestly, not knowing enough aboy complex numbers, this might be stupid (matematically)\n",
    "# but serves well as an example of class building\n",
    "\n",
    "class MyComplex(object):\n",
    "    def __init__(self, real, imag):\n",
    "        self.real = real\n",
    "        self.imag = imag\n",
    "        \n",
    "    def __repr__(self):\n",
    "        return \"(%d, %dj)\" % (self.real, self.imag)\n",
    "\n",
    "    def __add__(self, other):\n",
    "        return MyComplex(self.real + other.real, self.imag + other.imag)\n",
    "\n",
    "    def conjugate(self):\n",
    "        # mind you this modifies the instance \n",
    "        return MyComplex(self.real, - self.imag)\n",
    "    \n",
    "    \n",
    "z = MyComplex(2, 3)\n",
    "print z\n",
    "print z.real\n",
    "print z.imag\n",
    "print z.conjugate()\n",
    "print type(z.conjugate())\n",
    "print z + z.conjugate()"
   ]
  }
 ],
 "metadata": {
  "kernelspec": {
   "display_name": "Python 2",
   "language": "python",
   "name": "python2"
  },
  "language_info": {
   "codemirror_mode": {
    "name": "ipython",
    "version": 2
   },
   "file_extension": ".py",
   "mimetype": "text/x-python",
   "name": "python",
   "nbconvert_exporter": "python",
   "pygments_lexer": "ipython2",
   "version": "2.7.9"
  }
 },
 "nbformat": 4,
 "nbformat_minor": 0
}
