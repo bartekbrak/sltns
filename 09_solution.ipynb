{
 "cells": [
  {
   "cell_type": "code",
   "execution_count": null,
   "metadata": {
    "collapsed": true
   },
   "outputs": [],
   "source": [
    "with open('messy_data.dat') as f:\n",
    "    lines = f.readlines()\n",
    "    normalized = []\n",
    "    for line in lines:\n",
    "        normalized_line = [float(one.strip()) for one in line.split(',')]\n",
    "        normalized.append(normalized_line)\n",
    "    print normalized\n",
    "    \n",
    "with open('clean_data.dat', 'w') as f:\n",
    "    for line in normalized:\n",
    "        # 6 refers to the length of the whole result string, this is to \n",
    "        # give equal space to numers with one or two whole numbers\n",
    "        print_ready = '{0:6.3f} {1:6.3f} {2:6.3f} {3:6.3f} {4:6.3f}'.format(*line)\n",
    "        print 'writing', print_ready\n",
    "        f.write(print_ready + '\\n')\n",
    "\n"
   ]
  }
 ],
 "metadata": {
  "kernelspec": {
   "display_name": "Python 2",
   "language": "python",
   "name": "python2"
  },
  "language_info": {
   "codemirror_mode": {
    "name": "ipython",
    "version": 2
   },
   "file_extension": ".py",
   "mimetype": "text/x-python",
   "name": "python",
   "nbconvert_exporter": "python",
   "pygments_lexer": "ipython2",
   "version": "2.7.9"
  }
 },
 "nbformat": 4,
 "nbformat_minor": 0
}
